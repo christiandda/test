{
 "cells": [
  {
   "cell_type": "code",
   "execution_count": 1,
   "metadata": {},
   "outputs": [
    {
     "name": "stdout",
     "output_type": "stream",
     "text": [
      "For Calle de San Bernardo, 55, 28015 Madrid, Spain, the closest driver is 2.\n"
     ]
    }
   ],
   "source": [
    "import math\n",
    "import folium\n",
    "\n",
    "# Define a list of driver addresses in Madrid\n",
    "driver_addresses = [\n",
    "    {'driver_id': 1, 'address': 'Calle de Alcalá, 237, 28028 Madrid, Spain', 'lat': 40.423620, 'lon': -3.671791},\n",
    "    {'driver_id': 2, 'address': 'Calle Gran Vía, 46, 28013 Madrid, Spain', 'lat': 40.420222, 'lon': -3.706581},\n",
    "    {'driver_id': 3, 'address': 'Calle Mayor, 69, 28013 Madrid, Spain', 'lat': 40.415221, 'lon': -3.707713},\n",
    "]\n",
    "\n",
    "# Define a dictionary of shop addresses in Madrid\n",
    "shop_addresses = {\n",
    "    'shop_1': {'address': 'Calle de Fuencarral, 80, 28004 Madrid, Spain', 'lat': 40.426661, 'lon': -3.703714},\n",
    "    'shop_2': {'address': 'Calle del Prado, 5, 28014 Madrid, Spain', 'lat': 40.414810, 'lon': -3.695422},\n",
    "    'shop_3': {'address': 'Calle de la Montera, 34, 28013 Madrid, Spain', 'lat': 40.420597, 'lon': -3.703388},\n",
    "    'shop_4': {'address': 'Calle de Serrano, 33, 28001 Madrid, Spain', 'lat': 40.427327, 'lon': -3.686868},\n",
    "    'shop_5': {'address': 'Calle de San Bernardo, 55, 28015 Madrid, Spain', 'lat': 40.426380, 'lon': -3.708953},\n",
    "}\n",
    "\n",
    "# Define a function to calculate the Harvesian distance between two points\n",
    "def harvesian_distance(lat1, lon1, lat2, lon2):\n",
    "    R = 6371  # Radius of the earth in km\n",
    "    dLat = math.radians(lat2-lat1)\n",
    "    dLon = math.radians(lon2-lon1)\n",
    "    a = math.sin(dLat/2) * math.sin(dLat/2) + math.cos(math.radians(lat1)) \\\n",
    "        * math.cos(math.radians(lat2)) * math.sin(dLon/2) * math.sin(dLon/2)\n",
    "    c = 2 * math.atan2(math.sqrt(a), math.sqrt(1-a))\n",
    "    distance = R * c  # Distance in km\n",
    "    return distance\n",
    "\n",
    "# Define a function to find the closest driver to a shop address\n",
    "def find_closest_driver(driver_addresses, shop_address):\n",
    "    closest_driver = None\n",
    "    closest_distance = None\n",
    "    for driver in driver_addresses:\n",
    "        distance = harvesian_distance(driver['lat'], driver['lon'], shop_address['lat'], shop_address['lon'])\n",
    "        if closest_driver is None or distance < closest_distance:\n",
    "            closest_driver = driver\n",
    "            closest_distance = distance\n",
    "    return closest_driver\n",
    "\n",
    "# Ask the user to input a shop name\n",
    "shop_name = input(\"Enter a shop name: \")\n",
    "\n",
    "# Get the shop address from the shop_addresses dictionary\n",
    "if shop_name in shop_addresses:\n",
    "    shop_address = shop_addresses[shop_name]\n",
    "    closest_driver = find_closest_driver(driver_addresses, shop_address)\n",
    "    print(f\"For {shop_address['address']}, the closest driver is {closest_driver['driver_id']}.\")\n",
    "else:\n",
    "    print(\"Invalid shop\")\n"
   ]
  }
 ],
 "metadata": {
  "kernelspec": {
   "display_name": "Python 3",
   "language": "python",
   "name": "python3"
  },
  "language_info": {
   "codemirror_mode": {
    "name": "ipython",
    "version": 3
   },
   "file_extension": ".py",
   "mimetype": "text/x-python",
   "name": "python",
   "nbconvert_exporter": "python",
   "pygments_lexer": "ipython3",
   "version": "3.8.10"
  },
  "orig_nbformat": 4
 },
 "nbformat": 4,
 "nbformat_minor": 2
}
